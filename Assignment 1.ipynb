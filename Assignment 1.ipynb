{
 "cells": [
  {
   "cell_type": "code",
   "execution_count": 4,
   "id": "c72dcc65",
   "metadata": {},
   "outputs": [
    {
     "name": "stdout",
     "output_type": "stream",
     "text": [
      "Enter Roll Number : 21\n",
      "Enter Name : Anisha\n",
      "Enter Marks : 78\n",
      "21 Anisha 78\n"
     ]
    }
   ],
   "source": [
    "#question 1\n",
    "\n",
    "rollno=input(\"Enter Roll Number : \")\n",
    "name = input(\"Enter Name : \")\n",
    "marks =int(input(\"Enter Marks : \"))\n",
    "print(rollno,name,marks)"
   ]
  },
  {
   "cell_type": "code",
   "execution_count": 5,
   "id": "8601eb58",
   "metadata": {},
   "outputs": [
    {
     "name": "stdout",
     "output_type": "stream",
     "text": [
      "Enter temperature in celsius: 37\n",
      "37.0 degree Celsius is equal to 98.60000000000001 degree Fahrenheit.\n"
     ]
    }
   ],
   "source": [
    "#question 2\n",
    "#C TO F\n",
    "celsius = float(input(\"Enter temperature in celsius: \"))\n",
    "fahrenheit = (celsius * 1.8) + 32\n",
    "print(str(celsius )+ \" degree Celsius is equal to \" + str(fahrenheit )+ \" degree Fahrenheit.\")"
   ]
  },
  {
   "cell_type": "code",
   "execution_count": 6,
   "id": "76ec757a",
   "metadata": {},
   "outputs": [
    {
     "name": "stdout",
     "output_type": "stream",
     "text": [
      "Enter temperature in fahrenheit: 97\n",
      "97.0 degree Fahrenheit is equal to 36.11111111111111 degree Celsius.\n"
     ]
    }
   ],
   "source": [
    "#question 2\n",
    "#F TO C\n",
    "fahrenheit = float(input(\"Enter temperature in fahrenheit: \"))\n",
    "celsius = (fahrenheit - 32)/1.8\n",
    "print(str(fahrenheit )+ \" degree Fahrenheit is equal to \" + str(celsius ) + \" degree Celsius.\" )"
   ]
  },
  {
   "cell_type": "code",
   "execution_count": 7,
   "id": "8a6efb58",
   "metadata": {},
   "outputs": [
    {
     "name": "stdout",
     "output_type": "stream",
     "text": [
      "Enter first number: 4\n",
      "Enter second number: 5\n",
      "The product is: 20\n"
     ]
    }
   ],
   "source": [
    "#question 3\n",
    "\n",
    "n1 = int(input(\"Enter first number: \"))\n",
    "n2 = int(input(\"Enter second number: \"))\n",
    "\n",
    "prod = n1 * n2\n",
    "\n",
    "print(\"The product is:\",prod)"
   ]
  },
  {
   "cell_type": "code",
   "execution_count": 8,
   "id": "33e1b231",
   "metadata": {},
   "outputs": [
    {
     "name": "stdout",
     "output_type": "stream",
     "text": [
      "Enter first word: Learn\n",
      "Enter second word: Python\n",
      "Enter middle words: by Developing a\n",
      "Enter last word: Website\n",
      "Learn ** Python ** by Developing a ** Website **\n"
     ]
    }
   ],
   "source": [
    "#question 4\n",
    "\n",
    "a=str(input(\"Enter first word: \"))\n",
    "b=str(input(\"Enter second word: \"))\n",
    "c=str(input(\"Enter middle words: \"))\n",
    "d=str(input(\"Enter last word: \"))\n",
    "print(a,\"**\",b,\"**\",c,\"**\",d,\"**\")"
   ]
  },
  {
   "cell_type": "code",
   "execution_count": 9,
   "id": "40f05cf4",
   "metadata": {},
   "outputs": [
    {
     "name": "stdout",
     "output_type": "stream",
     "text": [
      "Enter radius of circle: 4.5\n",
      "Area of circle = 63.6171975\n"
     ]
    }
   ],
   "source": [
    "#question 5\n",
    "\n",
    "r = float(input(\"Enter radius of circle: \"))\n",
    "a = 3.14159 * r * r\n",
    "print(\"Area of circle =\", a)"
   ]
  },
  {
   "cell_type": "code",
   "execution_count": null,
   "id": "c84e9e90",
   "metadata": {},
   "outputs": [],
   "source": []
  }
 ],
 "metadata": {
  "kernelspec": {
   "display_name": "Python 3 (ipykernel)",
   "language": "python",
   "name": "python3"
  },
  "language_info": {
   "codemirror_mode": {
    "name": "ipython",
    "version": 3
   },
   "file_extension": ".py",
   "mimetype": "text/x-python",
   "name": "python",
   "nbconvert_exporter": "python",
   "pygments_lexer": "ipython3",
   "version": "3.9.13"
  }
 },
 "nbformat": 4,
 "nbformat_minor": 5
}
