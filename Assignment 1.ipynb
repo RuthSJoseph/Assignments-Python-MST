{
 "cells": [
  {
   "cell_type": "code",
   "execution_count": 1,
   "id": "c72dcc65",
   "metadata": {},
   "outputs": [
    {
     "name": "stdout",
     "output_type": "stream",
     "text": [
      "Enter Roll Number : 21\n",
      "Enter Name : Anisha\n",
      "Enter Marks : 78\n",
      "21 Anisha 78\n"
     ]
    }
   ],
   "source": [
    "#question 1\n",
    "\n",
    "rollno=input(\"Enter Roll Number : \")\n",
    "name = input(\"Enter Name : \")\n",
    "marks =int(input(\"Enter Marks : \"))\n",
    "print(rollno,name,marks)"
   ]
  },
  {
   "cell_type": "code",
   "execution_count": 2,
   "id": "52cda154",
   "metadata": {},
   "outputs": [
    {
     "name": "stdout",
     "output_type": "stream",
     "text": [
      "Input the  temperature you like to convert? (e.g., 45F, 102C etc.) : 36c\n",
      "The temperature in Fahrenheit is 97 degrees.\n"
     ]
    }
   ],
   "source": [
    "#question 2\n",
    "temp = input(\"Input the  temperature you like to convert? (e.g., 45F, 102C etc.) : \")\n",
    "degree = int(temp[:-1])\n",
    "i = temp[-1]\n",
    "\n",
    "if i.upper() == \"C\":\n",
    "  result = int(round((9 * degree) / 5 + 32))\n",
    "  print(\"The temperature in Fahrenheit is\", result, \"degrees.\")\n",
    "elif i.upper() == \"F\":\n",
    "  result = int(round((degree - 32) * 5 / 9))\n",
    "  print(\"The temperature in Celsius is\", result, \"degrees.\")\n",
    "else:\n",
    "  print(\"Incorrect Input\")\n",
    "  quit()"
   ]
  },
  {
   "cell_type": "code",
   "execution_count": 3,
   "id": "a01b9c0e",
   "metadata": {},
   "outputs": [
    {
     "name": "stdout",
     "output_type": "stream",
     "text": [
      "Input the  temperature you like to convert? (e.g., 45F, 102C etc.) : 104f\n",
      "The temperature in Celsius is 40 degrees.\n"
     ]
    }
   ],
   "source": [
    "#question 2\n",
    "temp = input(\"Input the  temperature you like to convert? (e.g., 45F, 102C etc.) : \")\n",
    "degree = int(temp[:-1])\n",
    "i = temp[-1]\n",
    "\n",
    "if i.upper() == \"C\":\n",
    "  result = int(round((9 * degree) / 5 + 32))\n",
    "  print(\"The temperature in Fahrenheit is\", result, \"degrees.\")\n",
    "elif i.upper() == \"F\":\n",
    "  result = int(round((degree - 32) * 5 / 9))\n",
    "  print(\"The temperature in Celsius is\", result, \"degrees.\")\n",
    "else:\n",
    "  print(\"Incorrect Input\")\n",
    "  quit()"
   ]
  },
  {
   "cell_type": "code",
   "execution_count": 4,
   "id": "9c3bce1f",
   "metadata": {},
   "outputs": [
    {
     "name": "stdout",
     "output_type": "stream",
     "text": [
      "Input the  temperature you like to convert? (e.g., 45F, 102C etc.) : 45\n",
      "Incorrect Input\n"
     ]
    }
   ],
   "source": [
    "#question 2\n",
    "temp = input(\"Input the  temperature you like to convert? (e.g., 45F, 102C etc.) : \")\n",
    "degree = int(temp[:-1])\n",
    "i = temp[-1]\n",
    "\n",
    "if i.upper() == \"C\":\n",
    "  result = int(round((9 * degree) / 5 + 32))\n",
    "  print(\"The temperature in Fahrenheit is\", result, \"degrees.\")\n",
    "elif i.upper() == \"F\":\n",
    "  result = int(round((degree - 32) * 5 / 9))\n",
    "  print(\"The temperature in Celsius is\", result, \"degrees.\")\n",
    "else:\n",
    "  print(\"Incorrect Input\")\n",
    "  quit()"
   ]
  },
  {
   "cell_type": "code",
   "execution_count": 5,
   "id": "4c191b7a",
   "metadata": {},
   "outputs": [
    {
     "name": "stdout",
     "output_type": "stream",
     "text": [
      "Enter first number: 4\n",
      "Enter second number: 5\n",
      "The product is: 20\n"
     ]
    }
   ],
   "source": [
    "#question 3\n",
    "\n",
    "n1 = int(input(\"Enter first number: \"))\n",
    "n2 = int(input(\"Enter second number: \"))\n",
    "\n",
    "prod = n1 * n2\n",
    "\n",
    "print(\"The product is:\",prod)"
   ]
  },
  {
   "cell_type": "code",
   "execution_count": 6,
   "id": "b9812f62",
   "metadata": {},
   "outputs": [
    {
     "name": "stdout",
     "output_type": "stream",
     "text": [
      "Enter first word: Learn\n",
      "Enter second word: Python\n",
      "Enter middle words: by Developing a\n",
      "Enter last word: Website\n",
      "Learn ** Python ** by Developing a ** Website **\n"
     ]
    }
   ],
   "source": [
    "#question 4\n",
    "\n",
    "a=str(input(\"Enter first word: \"))\n",
    "b=str(input(\"Enter second word: \"))\n",
    "c=str(input(\"Enter middle words: \"))\n",
    "d=str(input(\"Enter last word: \"))\n",
    "print(a,\"**\",b,\"**\",c,\"**\",d,\"**\")"
   ]
  },
  {
   "cell_type": "code",
   "execution_count": 7,
   "id": "676f2f20",
   "metadata": {},
   "outputs": [
    {
     "name": "stdout",
     "output_type": "stream",
     "text": [
      "Enter the radius of the circle : 4.5\n",
      "The area of the circle with radius 4.5 is: 63.61725123519331\n"
     ]
    }
   ],
   "source": [
    "#question 5\n",
    "import math\n",
    "r = float(input (\"Enter the radius of the circle : \"))\n",
    "print (\"The area of the circle with radius \" + str(r) + \" is: \" + str(math.pi * r**2))"
   ]
  },
  {
   "cell_type": "code",
   "execution_count": 8,
   "id": "bd2f8ada",
   "metadata": {},
   "outputs": [
    {
     "name": "stdout",
     "output_type": "stream",
     "text": [
      "Enter the Size: 5\n",
      "Enter 5 Elements: 2\n",
      "4\n",
      "6\n",
      "8\n",
      "0\n",
      "\n",
      "Enter an Element to Insert: \n",
      "5\n",
      "At what index ? 2\n",
      "\n",
      "The New List is: \n",
      "2 4 5 6 8 0 \n"
     ]
    }
   ],
   "source": [
    "#question 6\n",
    "nums = []\n",
    "print(end=\"Enter the Size: \")\n",
    "numsSize = int(input())\n",
    "print(end=\"Enter \" +str(numsSize)+ \" Elements: \")\n",
    "for i in range(numsSize):\n",
    "    nums.append(input())\n",
    "print(\"\\nEnter an Element to Insert: \")\n",
    "elem = input()\n",
    "print(end=\"At what index ? \")\n",
    "pos = int(input())\n",
    "nums.insert(pos, elem)\n",
    "numsSize = numsSize+1\n",
    "print(\"\\nThe New List is: \")\n",
    "for i in range(numsSize):\n",
    "    print(end=nums[i] + \" \")\n",
    "print()"
   ]
  },
  {
   "cell_type": "code",
   "execution_count": 9,
   "id": "7213a234",
   "metadata": {},
   "outputs": [
    {
     "name": "stdout",
     "output_type": "stream",
     "text": [
      "{'name': 'John', 'age': 5, 'salary': 8000, 'location': 'New York'}\n"
     ]
    }
   ],
   "source": [
    "#question 7\n",
    "sample_dict = { \"name\": \"John\", \"age\":5, \"salary\": 8000, \"city\": \"New York\"}\n",
    "sample_dict[\"location\"] = sample_dict.pop(\"city\")\n",
    "print(sample_dict)"
   ]
  },
  {
   "cell_type": "code",
   "execution_count": 10,
   "id": "5aff59fe",
   "metadata": {},
   "outputs": [
    {
     "name": "stdout",
     "output_type": "stream",
     "text": [
      "{'emp1': {'name': 'John', 'salary': 7500}, 'emp2': {'name': 'Emma', 'salary': 8000}, 'emp3': {'name': 'Brad', 'salary': 8500}}\n"
     ]
    }
   ],
   "source": [
    "#question 8\n",
    "\n",
    "sample_dict = {\n",
    "'emp1': {'name': 'John', 'salary': 7500},\n",
    "'emp2': {'name': 'Emma', 'salary': 8000},\n",
    "'emp3': {'name': 'Brad', 'salary': 500}\n",
    "}\n",
    "sample_dict['emp3']['salary'] = 8500\n",
    "print(sample_dict)"
   ]
  },
  {
   "cell_type": "code",
   "execution_count": 11,
   "id": "6fe65d36",
   "metadata": {},
   "outputs": [
    {
     "name": "stdout",
     "output_type": "stream",
     "text": [
      "(43, 54)\n"
     ]
    }
   ],
   "source": [
    "#question 9\n",
    "\n",
    "tuple1 = (10, 20, 43, 54, 56, 68)\n",
    "tuple2 = tuple1[2:-2]\n",
    "print(tuple2)"
   ]
  },
  {
   "cell_type": "code",
   "execution_count": 12,
   "id": "4f10bfd5",
   "metadata": {},
   "outputs": [
    {
     "name": "stdout",
     "output_type": "stream",
     "text": [
      "3\n"
     ]
    }
   ],
   "source": [
    "#question 10\n",
    "\n",
    "tuple1 = (50, 10, 60, 70, 50,83,567,50,81)\n",
    "print(tuple1.count(50))"
   ]
  },
  {
   "cell_type": "code",
   "execution_count": null,
   "id": "00041472",
   "metadata": {},
   "outputs": [],
   "source": []
  }
 ],
 "metadata": {
  "kernelspec": {
   "display_name": "Python 3 (ipykernel)",
   "language": "python",
   "name": "python3"
  },
  "language_info": {
   "codemirror_mode": {
    "name": "ipython",
    "version": 3
   },
   "file_extension": ".py",
   "mimetype": "text/x-python",
   "name": "python",
   "nbconvert_exporter": "python",
   "pygments_lexer": "ipython3",
   "version": "3.9.13"
  }
 },
 "nbformat": 4,
 "nbformat_minor": 5
}
